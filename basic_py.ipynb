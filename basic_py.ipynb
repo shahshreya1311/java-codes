{
  "nbformat": 4,
  "nbformat_minor": 0,
  "metadata": {
    "colab": {
      "name": "basic.py",
      "provenance": [],
      "collapsed_sections": [],
      "authorship_tag": "ABX9TyPhkvrOchBeUFNKMeTsAJqA",
      "include_colab_link": true
    },
    "kernelspec": {
      "name": "python3",
      "display_name": "Python 3"
    },
    "language_info": {
      "name": "python"
    },
    "gpuClass": "standard"
  },
  "cells": [
    {
      "cell_type": "markdown",
      "metadata": {
        "id": "view-in-github",
        "colab_type": "text"
      },
      "source": [
        "<a href=\"https://colab.research.google.com/github/shahshreya1311/java-codes/blob/main/basic_py.ipynb\" target=\"_parent\"><img src=\"https://colab.research.google.com/assets/colab-badge.svg\" alt=\"Open In Colab\"/></a>"
      ]
    },
    {
      "cell_type": "code",
      "source": [
        "var=\"Hello World\"\n",
        "print(var)\n",
        "print(len(var))\n",
        "print(var[4])\n",
        "print(var[0:4])\n",
        "print(var[0:5:2])"
      ],
      "metadata": {
        "colab": {
          "base_uri": "https://localhost:8080/"
        },
        "id": "Q64UF5Nmc5iV",
        "outputId": "4ce84e65-8174-45f3-de1c-4bbacb777c41"
      },
      "execution_count": 8,
      "outputs": [
        {
          "output_type": "stream",
          "name": "stdout",
          "text": [
            "Hello World\n",
            "11\n",
            "o\n",
            "Hell\n",
            "Hlo\n"
          ]
        }
      ]
    },
    {
      "cell_type": "code",
      "source": [
        "var=\"SHREYA \"\n",
        "va=\"SHAH\"\n",
        "print(var+va)"
      ],
      "metadata": {
        "colab": {
          "base_uri": "https://localhost:8080/"
        },
        "id": "5KDV4_wRilPx",
        "outputId": "6135039b-05df-4d02-8ff2-8dea522241c9"
      },
      "execution_count": 2,
      "outputs": [
        {
          "output_type": "stream",
          "name": "stdout",
          "text": [
            "SHREYA SHAH\n"
          ]
        }
      ]
    },
    {
      "cell_type": "code",
      "source": [
        "a=int(input(\"Enter N:\"))\n",
        "print(a*\"HELLO WORLD \\n\")"
      ],
      "metadata": {
        "colab": {
          "base_uri": "https://localhost:8080/"
        },
        "id": "JKQWpPVfizVc",
        "outputId": "8ca81915-02d1-41f7-a2f0-90d3ec2e9509"
      },
      "execution_count": 5,
      "outputs": [
        {
          "output_type": "stream",
          "name": "stdout",
          "text": [
            "Enter N:10\n",
            "HELLO WORLD \n",
            "HELLO WORLD \n",
            "HELLO WORLD \n",
            "HELLO WORLD \n",
            "HELLO WORLD \n",
            "HELLO WORLD \n",
            "HELLO WORLD \n",
            "HELLO WORLD \n",
            "HELLO WORLD \n",
            "HELLO WORLD \n",
            "\n"
          ]
        }
      ]
    },
    {
      "cell_type": "code",
      "source": [
        ""
      ],
      "metadata": {
        "id": "fSI-gOn2kS1N"
      },
      "execution_count": null,
      "outputs": []
    }
  ]
}