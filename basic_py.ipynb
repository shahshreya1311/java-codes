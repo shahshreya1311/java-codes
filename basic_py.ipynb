{
  "nbformat": 4,
  "nbformat_minor": 0,
  "metadata": {
    "colab": {
      "name": "basic.py",
      "provenance": [],
      "collapsed_sections": [],
      "authorship_tag": "ABX9TyN/J4CWFo7on3qAYEF3cNzW",
      "include_colab_link": true
    },
    "kernelspec": {
      "name": "python3",
      "display_name": "Python 3"
    },
    "language_info": {
      "name": "python"
    },
    "gpuClass": "standard"
  },
  "cells": [
    {
      "cell_type": "markdown",
      "metadata": {
        "id": "view-in-github",
        "colab_type": "text"
      },
      "source": [
        "<a href=\"https://colab.research.google.com/github/shahshreya1311/java-codes/blob/main/basic_py.ipynb\" target=\"_parent\"><img src=\"https://colab.research.google.com/assets/colab-badge.svg\" alt=\"Open In Colab\"/></a>"
      ]
    },
    {
      "cell_type": "code",
      "source": [
        "# String Slicing\n",
        "var=\"Hello World\"\n",
        "print(var)\n",
        "print(len(var))\n",
        "print(var[4])\n",
        "print(var[0:4])\n",
        "print(var[0:5:2])"
      ],
      "metadata": {
        "colab": {
          "base_uri": "https://localhost:8080/"
        },
        "id": "Q64UF5Nmc5iV",
        "outputId": "4ce84e65-8174-45f3-de1c-4bbacb777c41"
      },
      "execution_count": null,
      "outputs": [
        {
          "output_type": "stream",
          "name": "stdout",
          "text": [
            "Hello World\n",
            "11\n",
            "o\n",
            "Hell\n",
            "Hlo\n"
          ]
        }
      ]
    },
    {
      "cell_type": "code",
      "source": [
        "# To Print a string n times\n",
        "a=int(input(\"Enter N:\"))\n",
        "print(a*\"HELLO WORLD \\n\")"
      ],
      "metadata": {
        "colab": {
          "base_uri": "https://localhost:8080/"
        },
        "id": "JKQWpPVfizVc",
        "outputId": "8ca81915-02d1-41f7-a2f0-90d3ec2e9509"
      },
      "execution_count": null,
      "outputs": [
        {
          "output_type": "stream",
          "name": "stdout",
          "text": [
            "Enter N:10\n",
            "HELLO WORLD \n",
            "HELLO WORLD \n",
            "HELLO WORLD \n",
            "HELLO WORLD \n",
            "HELLO WORLD \n",
            "HELLO WORLD \n",
            "HELLO WORLD \n",
            "HELLO WORLD \n",
            "HELLO WORLD \n",
            "HELLO WORLD \n",
            "\n"
          ]
        }
      ]
    },
    {
      "cell_type": "code",
      "source": [
        "# Quiz:To add two numbers input from user \n",
        "print(\"Enter First Number : \")\n",
        "num1= int(input())\n",
        "print(\"Enter Second Number : \")\n",
        "num2=int(input())\n",
        "print(\"The Sum is\",num1+num2) #It will give output as sum of two numbers."
      ],
      "metadata": {
        "id": "fSI-gOn2kS1N",
        "outputId": "cbd01c48-a956-4886-86c1-4a8278d5f693",
        "colab": {
          "base_uri": "https://localhost:8080/"
        }
      },
      "execution_count": 3,
      "outputs": [
        {
          "output_type": "stream",
          "name": "stdout",
          "text": [
            "Enter First Number : \n",
            "5\n",
            "Enter Second Number : \n",
            "6\n",
            "The Sum is 11\n"
          ]
        }
      ]
    },
    {
      "cell_type": "code",
      "source": [
        "# To take list as input from user\n",
        "l=[]\n",
        "for i in range(0,5):\n",
        "  l.append(int(input()))\n",
        "print(max(l))"
      ],
      "metadata": {
        "id": "g_i6yFGh8xB9",
        "outputId": "2b54f254-bdb6-4c67-e0e1-73c0a138bd64",
        "colab": {
          "base_uri": "https://localhost:8080/"
        }
      },
      "execution_count": 20,
      "outputs": [
        {
          "output_type": "stream",
          "name": "stdout",
          "text": [
            "5\n",
            "6\n",
            "3\n",
            "9\n",
            "5\n",
            "9\n"
          ]
        }
      ]
    },
    {
      "cell_type": "code",
      "source": [
        "# To Find minimum number from the user given list\n",
        "l=[]\n",
        "for i in range(0,5):\n",
        "  l.append(int(input()))\n",
        "print(min(l))"
      ],
      "metadata": {
        "id": "hMrtBXLEBPXV",
        "outputId": "32f420f9-1c3d-4175-f910-1cc8ea22ad85",
        "colab": {
          "base_uri": "https://localhost:8080/"
        }
      },
      "execution_count": 21,
      "outputs": [
        {
          "output_type": "stream",
          "name": "stdout",
          "text": [
            "5\n",
            "6\n",
            "2\n",
            "8\n",
            "3\n",
            "2\n"
          ]
        }
      ]
    },
    {
      "cell_type": "code",
      "source": [
        "# To find reverse of number\n",
        "num=int(input(\"Enter Number: \"))\n",
        "rev=0\n",
        "while(num>0):\n",
        "  rem=num%10\n",
        "  rev=(rev*10)+rem\n",
        "  num=num//10\n",
        "print(\"Reverse: \",rev)"
      ],
      "metadata": {
        "id": "hG2jy4bqBYj5",
        "outputId": "01de78f8-9d6b-4ca6-934d-45047b9e08a6",
        "colab": {
          "base_uri": "https://localhost:8080/"
        }
      },
      "execution_count": 23,
      "outputs": [
        {
          "output_type": "stream",
          "name": "stdout",
          "text": [
            "Enter Number: 596\n",
            "Reverse:  695\n"
          ]
        }
      ]
    },
    {
      "cell_type": "code",
      "source": [
        "# To swap two numbers\n",
        "a=int(input(\"Enter a=\"))\n",
        "b=int(input(\"Enter b=\"))\n",
        "print(\"Before Swapping : \",a,b)\n",
        "a,b=b,a\n",
        "print(\"After Swapping : \",a,b)"
      ],
      "metadata": {
        "id": "Q0Q7kouKFALJ",
        "outputId": "24ebecc1-f226-49fb-ab25-608a91285c31",
        "colab": {
          "base_uri": "https://localhost:8080/"
        }
      },
      "execution_count": 24,
      "outputs": [
        {
          "output_type": "stream",
          "name": "stdout",
          "text": [
            "Enter a=5\n",
            "Enter b=6\n",
            "Before Swapping :  5 6\n",
            "After Swapping :  6 5\n"
          ]
        }
      ]
    },
    {
      "cell_type": "code",
      "source": [
        "# Dictionary taking word input from user and returning it`s meaning\n",
        "d1={\"mutable\":\"can change\",\"invisible\":\"cannot see\",\"mobile\":\"communication device\",\"apple\":\"fruit\",\"Krisha\":\"close to krishna bhagwan\"}\n",
        "a=input()\n",
        "print(d1[a])"
      ],
      "metadata": {
        "id": "-9Q5VF0_H19y",
        "outputId": "45f2b2cc-cdbe-4ded-914a-9be7241c77ca",
        "colab": {
          "base_uri": "https://localhost:8080/"
        }
      },
      "execution_count": 21,
      "outputs": [
        {
          "output_type": "stream",
          "name": "stdout",
          "text": [
            "Krisha\n",
            "close to krishna bhagwan\n"
          ]
        }
      ]
    },
    {
      "cell_type": "code",
      "source": [
        "# Driving Permission\n",
        "a=int(input(\"Enter age : \"))\n",
        "if(a<=70):\n",
        "  if(a>18):\n",
        "    print(\"You can drive\")\n",
        "  elif(a==18):\n",
        "    print(\"Get a license first\")\n",
        "  else:\n",
        "    print(\"You cannot drive\")\n",
        "else:\n",
        "  print(\"You are over age\")"
      ],
      "metadata": {
        "id": "VV6aXq9MeDpx",
        "outputId": "04e5aca9-7010-4d26-98b2-621dd30c0949",
        "colab": {
          "base_uri": "https://localhost:8080/"
        }
      },
      "execution_count": 6,
      "outputs": [
        {
          "output_type": "stream",
          "name": "stdout",
          "text": [
            "Enter age : 50\n",
            "You can drive\n"
          ]
        }
      ]
    },
    {
      "cell_type": "code",
      "source": [
        "#Faulty Calculator that gives 45*3=555,56+9=77,56/6=4 and rest all answers correct\n",
        "a=int(input(\"Enter number 1: \"))\n",
        "b=int(input(\"Enter number 2: \"))\n",
        "c=input(\"Enter Operator : \")\n",
        "if(c==\"*\"):\n",
        "  if(a==45 and b==3):\n",
        "    print(\"555\")\n",
        "  else:\n",
        "    print(a*b)\n",
        "if(c==\"+\"):\n",
        "  if(a==56 and b==9):\n",
        "    print(\"77\")\n",
        "  else:\n",
        "    print(a+b)\n",
        "if(c==\"/\"):\n",
        "  if(a==56 and b==6):\n",
        "    print(\"4\")\n",
        "  else:\n",
        "    print(a/b)\n",
        "if(c==\"-\"):\n",
        "  print(a-b)\n",
        "if(c==\"//\"):\n",
        "  print(a//b)\n",
        "if(c==\"%\"):\n",
        "  print(a%b)"
      ],
      "metadata": {
        "id": "JTiqTfEvC9xb",
        "outputId": "02f8ab13-e608-49ad-c848-a4ab23b7fcaa",
        "colab": {
          "base_uri": "https://localhost:8080/"
        }
      },
      "execution_count": 18,
      "outputs": [
        {
          "output_type": "stream",
          "name": "stdout",
          "text": [
            "Enter number 1: 88\n",
            "Enter number 2: 10\n",
            "Enter Operator : %\n",
            "8\n"
          ]
        }
      ]
    },
    {
      "cell_type": "code",
      "source": [
        "# Guess the number\n",
        "n=13\n",
        "a=int(input(\"Enter your choice : \"))\n",
        "while(a<=100):\n",
        "  if(n>a):\n",
        "    print(\"Increase the number\")\n",
        "    break\n",
        "  elif(n==a):\n",
        "    print(\"Congratilations you have found the number !!!!!!!!!\")\n",
        "    break\n",
        "  else:\n",
        "    print(\"Reduce the number\")\n",
        "    break\n",
        "else:\n",
        "  print(\"Select a Number between 1 and 100\")"
      ],
      "metadata": {
        "id": "0MWEz6cOHTA5",
        "outputId": "1a2a8a08-820f-4217-be6e-6a444dd5a05f",
        "colab": {
          "base_uri": "https://localhost:8080/"
        }
      },
      "execution_count": 4,
      "outputs": [
        {
          "output_type": "stream",
          "name": "stdout",
          "text": [
            "Enter your choice : 14\n",
            "Reduce the number\n"
          ]
        }
      ]
    },
    {
      "cell_type": "code",
      "source": [
        "# Short hand if else notation\n",
        "a=int(input(\"Enter a : \"))\n",
        "b=int(input(\"Enter b : \"))\n",
        "print(\"B is greater than A\") if a<b else print (\"A is greater than B\")"
      ],
      "metadata": {
        "id": "wLsU-RGpnKH-",
        "outputId": "94bac130-f1f0-4c83-bac3-734521911e87",
        "colab": {
          "base_uri": "https://localhost:8080/"
        }
      },
      "execution_count": 11,
      "outputs": [
        {
          "output_type": "stream",
          "name": "stdout",
          "text": [
            "Enter a : 50\n",
            "Enter b : 40\n",
            "A is greater than B\n"
          ]
        }
      ]
    },
    {
      "cell_type": "code",
      "source": [
        "# number is odd or even using functions\n",
        "a=int(input(\"Enter Number : \"))\n",
        "def even(n):\n",
        "  if(n%2==0):\n",
        "    print(\"Even\")\n",
        "  else:\n",
        "    print(\"Odd\")\n",
        "even(a)    "
      ],
      "metadata": {
        "id": "44u4CtVArMu5",
        "outputId": "49cf98d1-3eb0-4ef3-b0ab-99ea74fbcab1",
        "colab": {
          "base_uri": "https://localhost:8080/"
        }
      },
      "execution_count": 9,
      "outputs": [
        {
          "output_type": "stream",
          "name": "stdout",
          "text": [
            "Enter Number : 355\n",
            "Odd\n"
          ]
        }
      ]
    },
    {
      "cell_type": "code",
      "source": [
        ""
      ],
      "metadata": {
        "id": "STC8WZ9FNw-j"
      },
      "execution_count": null,
      "outputs": []
    }
  ]
}